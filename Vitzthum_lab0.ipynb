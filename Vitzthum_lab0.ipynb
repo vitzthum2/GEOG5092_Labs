{
 "cells": [
  {
   "cell_type": "code",
   "execution_count": 1,
   "id": "23aea084-e958-4cd3-b68c-08e576efe03b",
   "metadata": {},
   "outputs": [
    {
     "name": "stdout",
     "output_type": "stream",
     "text": [
      "['roads.txt', 'cities.txt', 'counties.txt', 'states.txt']\n"
     ]
    }
   ],
   "source": [
    "# 1. Create a list of hypothetical file names using a for loop:\n",
    "#    a) Create a list with the following strings as elements: 'roads', 'cities', 'counties', 'states'\n",
    "#    b) Create an empty list and then populate it by concatenating each of the strings above with‘.txt’. \n",
    "#       This should result in a list of strings ending in .txt (e.g. ‘roads.txt’, ‘cities.txt’, etc.).\n",
    "\n",
    "my_list = ['roads', 'cities', 'counties', 'states']\n",
    "empty_list = []\n",
    "string = '.txt'\n",
    "\n",
    "for x in my_list:\n",
    "    empty_list.append(x + string)\n",
    "print (empty_list)\n",
    "    \n",
    "    "
   ]
  },
  {
   "cell_type": "code",
   "execution_count": 2,
   "id": "4b6bc873-4fdc-46ed-bd31-5f6c876ef374",
   "metadata": {},
   "outputs": [
    {
     "name": "stdout",
     "output_type": "stream",
     "text": [
      "1.0\n",
      "3.141592653589793\n",
      "9.869604401089358\n",
      "31.006276680299816\n",
      "97.40909103400242\n",
      "306.0196847852814\n",
      "961.3891935753043\n",
      "3020.2932277767914\n",
      "9488.53101607057\n"
     ]
    }
   ],
   "source": [
    "# 2. Write a while loop that raises the mathematical constant pi (3.14159...) to its powers until the\n",
    "# result is greater than 10,000 (i.e. pi0, pi1, pi2,...).\n",
    "# HINT: You will need to import the math module. Examine the while loop examples in\n",
    "# week1/inclass.ipynb (on Canvas) to figure out how to set up the loop structure. What condition are you testing? \n",
    "\n",
    "power = 0\n",
    "new_pi = 0\n",
    "\n",
    "from math import pi\n",
    "\n",
    "while new_pi < 10000:\n",
    "   \n",
    "    new_pi = pi**power\n",
    "    power = power + 1\n",
    "    \n",
    "    if new_pi >10000:\n",
    "         break\n",
    "    print (new_pi)"
   ]
  },
  {
   "cell_type": "code",
   "execution_count": 1,
   "id": "c792c5fd-1666-4006-9189-621ab950f4f4",
   "metadata": {},
   "outputs": [
    {
     "name": "stdout",
     "output_type": "stream",
     "text": [
      "[1.474, 2.863, 2.959, 3.758, 4.49, 4.963, 5.128, 5.265, 5.822, 6.201, 7.033, 7.83]\n"
     ]
    }
   ],
   "source": [
    "# Optional Challenge: Open the file lab0.txt from the data folder and read the lines of the file. Then\n",
    "# convert each element into a float type using a list comprehension (i.e. the result will be a list of floating point numbers). \n",
    "\n",
    "path_dir = './Lab0.txt'\n",
    "file_values = []\n",
    "\n",
    "with open(path_dir) as file:\n",
    "    for x in file:\n",
    "        file_values.append(float(x))\n",
    "print (file_values)"
   ]
  },
  {
   "cell_type": "code",
   "execution_count": null,
   "id": "9fa43a26-7db2-4f7a-a047-07fff683fbbb",
   "metadata": {},
   "outputs": [],
   "source": []
  }
 ],
 "metadata": {
  "kernelspec": {
   "display_name": "Python 3 (ipykernel)",
   "language": "python",
   "name": "python3"
  },
  "language_info": {
   "codemirror_mode": {
    "name": "ipython",
    "version": 3
   },
   "file_extension": ".py",
   "mimetype": "text/x-python",
   "name": "python",
   "nbconvert_exporter": "python",
   "pygments_lexer": "ipython3",
   "version": "3.7.12"
  },
  "widgets": {
   "application/vnd.jupyter.widget-state+json": {
    "state": {},
    "version_major": 2,
    "version_minor": 0
   }
  }
 },
 "nbformat": 4,
 "nbformat_minor": 5
}
